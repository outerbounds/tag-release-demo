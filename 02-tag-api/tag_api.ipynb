{
 "cells": [
  {
   "cell_type": "code",
   "execution_count": 1,
   "id": "7c1cd107",
   "metadata": {},
   "outputs": [],
   "source": [
    "from collections import defaultdict\n",
    "from metaflow import Flow, Run\n",
    "import pandas as pd"
   ]
  },
  {
   "cell_type": "code",
   "execution_count": 7,
   "id": "f6ee28f6",
   "metadata": {},
   "outputs": [
    {
     "data": {
      "text/plain": [
       "[Run('TreeCandidates/81222'),\n",
       " Run('TreeCandidates/81221'),\n",
       " Run('TreeCandidates/81214')]"
      ]
     },
     "execution_count": 7,
     "metadata": {},
     "output_type": "execute_result"
    }
   ],
   "source": [
    "flow = Flow('TreeCandidates')\n",
    "runs = list(flow.runs('promising_model'))\n",
    "runs"
   ]
  },
  {
   "cell_type": "code",
   "execution_count": 8,
   "id": "be6b4b04",
   "metadata": {},
   "outputs": [
    {
     "data": {
      "text/html": [
       "<div>\n",
       "<style scoped>\n",
       "    .dataframe tbody tr th:only-of-type {\n",
       "        vertical-align: middle;\n",
       "    }\n",
       "\n",
       "    .dataframe tbody tr th {\n",
       "        vertical-align: top;\n",
       "    }\n",
       "\n",
       "    .dataframe thead th {\n",
       "        text-align: right;\n",
       "    }\n",
       "</style>\n",
       "<table border=\"1\" class=\"dataframe\">\n",
       "  <thead>\n",
       "    <tr style=\"text-align: right;\">\n",
       "      <th></th>\n",
       "      <th>max_leaf_nodes</th>\n",
       "      <th>max_depth</th>\n",
       "      <th>max_features</th>\n",
       "      <th>random_state</th>\n",
       "      <th>accuracy</th>\n",
       "    </tr>\n",
       "  </thead>\n",
       "  <tbody>\n",
       "    <tr>\n",
       "      <th>81222</th>\n",
       "      <td>None</td>\n",
       "      <td>5</td>\n",
       "      <td>log2</td>\n",
       "      <td>5</td>\n",
       "      <td>0.854875</td>\n",
       "    </tr>\n",
       "    <tr>\n",
       "      <th>81221</th>\n",
       "      <td>None</td>\n",
       "      <td>5</td>\n",
       "      <td>log2</td>\n",
       "      <td>0</td>\n",
       "      <td>0.818594</td>\n",
       "    </tr>\n",
       "    <tr>\n",
       "      <th>81214</th>\n",
       "      <td>None</td>\n",
       "      <td>4</td>\n",
       "      <td>sqrt</td>\n",
       "      <td>0</td>\n",
       "      <td>0.843537</td>\n",
       "    </tr>\n",
       "  </tbody>\n",
       "</table>\n",
       "</div>"
      ],
      "text/plain": [
       "      max_leaf_nodes  max_depth max_features  random_state  accuracy\n",
       "81222           None          5         log2             5  0.854875\n",
       "81221           None          5         log2             0  0.818594\n",
       "81214           None          4         sqrt             0  0.843537"
      ]
     },
     "execution_count": 8,
     "metadata": {},
     "output_type": "execute_result"
    }
   ],
   "source": [
    "index = []\n",
    "data = defaultdict(list)\n",
    "for run in runs:\n",
    "    index.append(run.id)\n",
    "    for param, val in run['train'].task['params'].data.items():\n",
    "        data[param].append(val)\n",
    "    data['accuracy'].append(run['eval'].task['accuracy'].data)\n",
    "df = pd.DataFrame(data, index=index)\n",
    "df"
   ]
  },
  {
   "cell_type": "code",
   "execution_count": 9,
   "id": "fd6cb33f",
   "metadata": {},
   "outputs": [
    {
     "data": {
      "text/plain": [
       "<AxesSubplot:title={'center':'accuracy'}>"
      ]
     },
     "execution_count": 9,
     "metadata": {},
     "output_type": "execute_result"
    },
    {
     "data": {
      "image/png": "[encoded data removed]",
      "text/plain": [
       "<Figure size 432x288 with 1 Axes>"
      ]
     },
     "metadata": {
      "needs_background": "light"
     },
     "output_type": "display_data"
    }
   ],
   "source": [
    "df['accuracy'].plot(kind='barh', xlim=[0.7, 0.9], title='accuracy')"
   ]
  },
  {
   "cell_type": "code",
   "execution_count": 6,
   "id": "aca12717",
   "metadata": {},
   "outputs": [],
   "source": [
    "Run('TreeCandidates/81217').remove_tag('promising_model')"
   ]
  },
  {
   "cell_type": "code",
   "execution_count": null,
   "id": "3b7ab3e8",
   "metadata": {},
   "outputs": [],
   "source": []
  }
 ],
 "metadata": {
  "kernelspec": {
   "display_name": "Python 3",
   "language": "python",
   "name": "python3"
  },
  "language_info": {
   "codemirror_mode": {
    "name": "ipython",
    "version": 3
   },
   "file_extension": ".py",
   "mimetype": "text/x-python",
   "name": "python",
   "nbconvert_exporter": "python",
   "pygments_lexer": "ipython3",
   "version": "3.8.10"
  }
 },
 "nbformat": 4,
 "nbformat_minor": 5
}
